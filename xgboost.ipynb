{
  "nbformat": 4,
  "nbformat_minor": 0,
  "metadata": {
    "colab": {
      "provenance": [],
      "mount_file_id": "1zIudY0to0p1NfBkVbwckhZme2Bw9A3my",
      "authorship_tag": "ABX9TyPrip7LbXmCFtdQtU2qnVCm",
      "include_colab_link": true
    },
    "kernelspec": {
      "name": "python3",
      "display_name": "Python 3"
    },
    "language_info": {
      "name": "python"
    }
  },
  "cells": [
    {
      "cell_type": "markdown",
      "metadata": {
        "id": "view-in-github",
        "colab_type": "text"
      },
      "source": [
        "<a href=\"https://colab.research.google.com/github/hyuntae99/Multivariate-Data-Analysis/blob/main/xgboost.ipynb\" target=\"_parent\"><img src=\"https://colab.research.google.com/assets/colab-badge.svg\" alt=\"Open In Colab\"/></a>"
      ]
    },
    {
      "cell_type": "code",
      "execution_count": 124,
      "metadata": {
        "id": "jG9SeMgt30tp"
      },
      "outputs": [],
      "source": [
        "import pandas as pd\n",
        "from sklearn.model_selection import train_test_split\n",
        "from xgboost import XGBClassifier\n",
        "from sklearn.metrics import accuracy_score"
      ]
    },
    {
      "cell_type": "code",
      "source": [
        "# 데이터 불러오기\n",
        "train_pd = pd.read_csv('data_train.csv')\n",
        "test_pd = pd.read_csv('data_test.csv')"
      ],
      "metadata": {
        "id": "L3lL4RyN4iMH"
      },
      "execution_count": 125,
      "outputs": []
    },
    {
      "cell_type": "code",
      "source": [
        "x = train_pd[train_pd.columns.difference(['weather label'])]\n",
        "y = train_pd['weather label']"
      ],
      "metadata": {
        "id": "cL99VkIzAFsK"
      },
      "execution_count": 126,
      "outputs": []
    },
    {
      "cell_type": "markdown",
      "source": [
        "# test_size\n",
        "test set과 train set의 비율 \n",
        "\n",
        "# n_estimators \n",
        "학습 모델의 수, 많아질수록 성능 향상의 가능성이 있으나, 속도가 느려짐\n",
        "\n",
        "# learning_rate\n",
        "학습률, 너무 크면 gradient 발산의 가능성이 있으며, 너무 작으면 학습이 느림\n",
        "\n",
        "# max_depth\n",
        "최대 탐색 깊이, 너무 크면 과적합의 가능성, 너무 작으면 학습 성능 저하\n",
        "\n",
        "# random_state\n",
        "특정 숫자로 고정 시에 실행 시마다 고정된 결과 반환\n"
      ],
      "metadata": {
        "id": "daq9P_U6HL-5"
      }
    },
    {
      "cell_type": "code",
      "source": [
        "class model: \n",
        "  def fit(self, test_size, n_estimators, learning_rate, max_depth, random_state):\n",
        "    # train, test 데이터셋 분리\n",
        "    X_train, X_test, y_train, y_test = train_test_split(x, y, test_size = test_size, random_state = 32)\n",
        "\n",
        "    model = XGBClassifier(n_estimators, learning_rate, max_depth, random_state) # 모델 선언\n",
        "    model.fit(X_train, y_train) # 모델 학습\n",
        "    y_pred = model.predict(X_test) # 예측 라벨(0과 1로 예측)\n",
        "    return accuracy_score(y_pred, y_test) # 예측 라벨과 실제 라벨 사이의 정확도 측정\n",
        "    "
      ],
      "metadata": {
        "id": "6ImijB2KF8T6"
      },
      "execution_count": 162,
      "outputs": []
    },
    {
      "cell_type": "code",
      "source": [
        "model1 = model()\n",
        "model1.fit(0.25, 500, 0.2, 4, 32)"
      ],
      "metadata": {
        "colab": {
          "base_uri": "https://localhost:8080/"
        },
        "id": "rOiATSP1E9RS",
        "outputId": "ed017fe4-b7c2-4c5c-9c02-bf745f3ddb6f"
      },
      "execution_count": 169,
      "outputs": [
        {
          "output_type": "execute_result",
          "data": {
            "text/plain": [
              "0.7887323943661971"
            ]
          },
          "metadata": {},
          "execution_count": 169
        }
      ]
    },
    {
      "cell_type": "code",
      "source": [
        "acc = list() # 정학도 배열\n",
        "test_size = 0\n",
        "for i in range(1, 10):\n",
        "  test_size = test_size + 0.1\n",
        "  acc.append(model1.fit(test_size, 500, 0.2, 4, 32))\n",
        "\n"
      ],
      "metadata": {
        "colab": {
          "base_uri": "https://localhost:8080/"
        },
        "id": "dV-w367QF87Y",
        "outputId": "d9a91063-3e24-43c7-b0b7-a9d99ec18b54"
      },
      "execution_count": 180,
      "outputs": [
        {
          "output_type": "stream",
          "name": "stderr",
          "text": [
            "/usr/local/lib/python3.10/dist-packages/xgboost/core.py:617: FutureWarning: Pass `objective, use_label_encoder` as keyword args.\n",
            "  warnings.warn(msg, FutureWarning)\n",
            "/usr/local/lib/python3.10/dist-packages/xgboost/sklearn.py:1395: UserWarning: `use_label_encoder` is deprecated in 1.7.0.\n",
            "  warnings.warn(\"`use_label_encoder` is deprecated in 1.7.0.\")\n",
            "/usr/local/lib/python3.10/dist-packages/xgboost/core.py:617: FutureWarning: Pass `objective, use_label_encoder` as keyword args.\n",
            "  warnings.warn(msg, FutureWarning)\n",
            "/usr/local/lib/python3.10/dist-packages/xgboost/sklearn.py:1395: UserWarning: `use_label_encoder` is deprecated in 1.7.0.\n",
            "  warnings.warn(\"`use_label_encoder` is deprecated in 1.7.0.\")\n",
            "/usr/local/lib/python3.10/dist-packages/xgboost/core.py:617: FutureWarning: Pass `objective, use_label_encoder` as keyword args.\n",
            "  warnings.warn(msg, FutureWarning)\n",
            "/usr/local/lib/python3.10/dist-packages/xgboost/sklearn.py:1395: UserWarning: `use_label_encoder` is deprecated in 1.7.0.\n",
            "  warnings.warn(\"`use_label_encoder` is deprecated in 1.7.0.\")\n",
            "/usr/local/lib/python3.10/dist-packages/xgboost/core.py:617: FutureWarning: Pass `objective, use_label_encoder` as keyword args.\n",
            "  warnings.warn(msg, FutureWarning)\n",
            "/usr/local/lib/python3.10/dist-packages/xgboost/sklearn.py:1395: UserWarning: `use_label_encoder` is deprecated in 1.7.0.\n",
            "  warnings.warn(\"`use_label_encoder` is deprecated in 1.7.0.\")\n",
            "/usr/local/lib/python3.10/dist-packages/xgboost/core.py:617: FutureWarning: Pass `objective, use_label_encoder` as keyword args.\n",
            "  warnings.warn(msg, FutureWarning)\n",
            "/usr/local/lib/python3.10/dist-packages/xgboost/sklearn.py:1395: UserWarning: `use_label_encoder` is deprecated in 1.7.0.\n",
            "  warnings.warn(\"`use_label_encoder` is deprecated in 1.7.0.\")\n",
            "/usr/local/lib/python3.10/dist-packages/xgboost/core.py:617: FutureWarning: Pass `objective, use_label_encoder` as keyword args.\n",
            "  warnings.warn(msg, FutureWarning)\n",
            "/usr/local/lib/python3.10/dist-packages/xgboost/sklearn.py:1395: UserWarning: `use_label_encoder` is deprecated in 1.7.0.\n",
            "  warnings.warn(\"`use_label_encoder` is deprecated in 1.7.0.\")\n",
            "/usr/local/lib/python3.10/dist-packages/xgboost/core.py:617: FutureWarning: Pass `objective, use_label_encoder` as keyword args.\n",
            "  warnings.warn(msg, FutureWarning)\n",
            "/usr/local/lib/python3.10/dist-packages/xgboost/sklearn.py:1395: UserWarning: `use_label_encoder` is deprecated in 1.7.0.\n",
            "  warnings.warn(\"`use_label_encoder` is deprecated in 1.7.0.\")\n",
            "/usr/local/lib/python3.10/dist-packages/xgboost/core.py:617: FutureWarning: Pass `objective, use_label_encoder` as keyword args.\n",
            "  warnings.warn(msg, FutureWarning)\n",
            "/usr/local/lib/python3.10/dist-packages/xgboost/sklearn.py:1395: UserWarning: `use_label_encoder` is deprecated in 1.7.0.\n",
            "  warnings.warn(\"`use_label_encoder` is deprecated in 1.7.0.\")\n",
            "/usr/local/lib/python3.10/dist-packages/xgboost/core.py:617: FutureWarning: Pass `objective, use_label_encoder` as keyword args.\n",
            "  warnings.warn(msg, FutureWarning)\n",
            "/usr/local/lib/python3.10/dist-packages/xgboost/sklearn.py:1395: UserWarning: `use_label_encoder` is deprecated in 1.7.0.\n",
            "  warnings.warn(\"`use_label_encoder` is deprecated in 1.7.0.\")\n"
          ]
        }
      ]
    },
    {
      "cell_type": "code",
      "source": [
        "acc"
      ],
      "metadata": {
        "colab": {
          "base_uri": "https://localhost:8080/"
        },
        "id": "U92du1WtJZnA",
        "outputId": "7a051178-2b82-46c7-b724-9cf3e3bf6c8c"
      },
      "execution_count": 181,
      "outputs": [
        {
          "output_type": "execute_result",
          "data": {
            "text/plain": [
              "[0.80859375,\n",
              " 0.791015625,\n",
              " 0.7796610169491526,\n",
              " 0.7839687194525904,\n",
              " 0.7824726134585289,\n",
              " 0.7985658409387223,\n",
              " 0.7932960893854749,\n",
              " 0.7843520782396088,\n",
              " 0.7753150803998262]"
            ]
          },
          "metadata": {},
          "execution_count": 181
        }
      ]
    },
    {
      "cell_type": "code",
      "source": [],
      "metadata": {
        "id": "BVlZR6eYLGl4"
      },
      "execution_count": null,
      "outputs": []
    }
  ]
}